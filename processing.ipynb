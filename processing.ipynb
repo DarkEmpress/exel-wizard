{
 "cells": [
  {
   "cell_type": "code",
   "execution_count": 99,
   "metadata": {},
   "outputs": [],
   "source": [
    "#import all pakages\n",
    "import pandas as pd\n",
    "\n"
   ]
  },
  {
   "cell_type": "code",
   "execution_count": 100,
   "metadata": {},
   "outputs": [
    {
     "name": "stdout",
     "output_type": "stream",
     "text": [
      "   Zone           CIRCLE          BA         SSA Device Role       IPAddress  \\\n",
      "0  EAST  ANDAMAN NICOBAR  PORT BLAIR  PORT BLAIR     TIP-OLT   10.211.223.30   \n",
      "1  EAST  ANDAMAN NICOBAR  PORT BLAIR  PORT BLAIR     TIP-OLT    10.211.223.9   \n",
      "2  EAST  ANDAMAN NICOBAR  PORT BLAIR  PORT BLAIR     TIP-OLT  10.215.223.116   \n",
      "3  EAST  ANDAMAN NICOBAR  PORT BLAIR  PORT BLAIR     TIP-OLT  10.215.223.154   \n",
      "4  EAST  ANDAMAN NICOBAR  PORT BLAIR  PORT BLAIR     TIP-OLT   10.215.223.68   \n",
      "\n",
      "     VENDOR    Device Name  Carry Forward  Down Count  ...  > 7 Days  \\\n",
      "0       DBC  10.211.223.30            0.0         2.0  ...       0.0   \n",
      "1   NETLINK   10.211.223.9            0.0         7.0  ...       0.0   \n",
      "2  Syrotech       epon-olt            0.0         2.0  ...       0.0   \n",
      "3  Optronix       Luckhnow            0.0         2.0  ...       0.0   \n",
      "4   Netlink  10.215.223.68            0.0         1.0  ...       0.0   \n",
      "\n",
      "   Total Resolved  Total Down Duration              MTTR  Pending Faults  \\\n",
      "0             2.0   0days 18Hrs 10mins  0days 9h:04m:55s             0.0   \n",
      "1             7.0   0days 15Hrs 39mins  0days 2h:14m:11s             0.0   \n",
      "2             2.0    0days 5Hrs 35mins  0days 2h:47m:26s             0.0   \n",
      "3             2.0    0days 5Hrs 35mins  0days 2h:47m:28s             0.0   \n",
      "4             1.0    0days 1Hrs 20mins  0days 1h:20m:03s             0.0   \n",
      "\n",
      "   Pending < 1 Hour  Pending < 24 Hours  Pending < 3 Days  Pending < 7 Days  \\\n",
      "0               0.0                 0.0               0.0               0.0   \n",
      "1               0.0                 0.0               0.0               0.0   \n",
      "2               0.0                 0.0               0.0               0.0   \n",
      "3               0.0                 0.0               0.0               0.0   \n",
      "4               0.0                 0.0               0.0               0.0   \n",
      "\n",
      "   Pending > 7 Days  \n",
      "0               0.0  \n",
      "1               0.0  \n",
      "2               0.0  \n",
      "3               0.0  \n",
      "4               0.0  \n",
      "\n",
      "[5 rows x 28 columns]\n",
      "<class 'pandas.core.frame.DataFrame'>\n",
      "        IPAddress       Place   Type\n",
      "0  10.215.223.143     CHAMPIN  RURAL\n",
      "1   10.214.223.10    MOHANPUR  RURAL\n",
      "2   10.211.223.24     SHIBPUR  RURAL\n",
      "3    10.214.223.4       ARONG  RURAL\n",
      "4   10.215.223.16  KERLAPURAM  RURAL\n"
     ]
    },
    {
     "name": "stderr",
     "output_type": "stream",
     "text": [
      "C:\\Users\\HP\\AppData\\Local\\Packages\\PythonSoftwareFoundation.Python.3.11_qbz5n2kfra8p0\\LocalCache\\local-packages\\Python311\\site-packages\\openpyxl\\styles\\stylesheet.py:226: UserWarning: Workbook contains no default style, apply openpyxl's default\n",
      "  warn(\"Workbook contains no default style, apply openpyxl's default\")\n"
     ]
    }
   ],
   "source": [
    "#import the input file\n",
    "input_xl= pd.read_excel(r'C:\\Users\\HP\\OneDrive\\Documents\\GitHub\\monthly-report-generator\\data\\input.xlsx', header=14, usecols=\"B:AC\")\n",
    "print(input_xl.head())\n",
    "print(type(input_xl))\n",
    "\n",
    "ref= pd.read_excel(r'C:\\Users\\HP\\OneDrive\\Documents\\GitHub\\monthly-report-generator\\data\\ref.xlsx')\n",
    "print(ref.head())\n"
   ]
  },
  {
   "cell_type": "markdown",
   "metadata": {},
   "source": [
    "STEP 1: Keep only the necessary rows"
   ]
  },
  {
   "cell_type": "code",
   "execution_count": 101,
   "metadata": {},
   "outputs": [
    {
     "name": "stdout",
     "output_type": "stream",
     "text": [
      "['Zone', 'CIRCLE', 'BA', 'SSA', 'Device Role', 'IPAddress', 'VENDOR', 'Device Name', 'Carry Forward', 'Down Count', 'Total Count', '< 15 Mins', '< 1 Hour', '< 4 Hours', '< 8 Hours', '< 24 Hours', '< 3 Days', '< 7 Days', '> 7 Days', 'Total Resolved', 'Total Down Duration', 'MTTR', 'Pending Faults', 'Pending < 1 Hour', 'Pending < 24 Hours', 'Pending < 3 Days', 'Pending < 7 Days', 'Pending > 7 Days']\n",
      "        IPAddress    VENDOR    Device Name Total Down Duration  \\\n",
      "0   10.211.223.30       DBC  10.211.223.30  0days 18Hrs 10mins   \n",
      "1    10.211.223.9   NETLINK   10.211.223.9  0days 15Hrs 39mins   \n",
      "2  10.215.223.116  Syrotech       epon-olt   0days 5Hrs 35mins   \n",
      "3  10.215.223.154  Optronix       Luckhnow   0days 5Hrs 35mins   \n",
      "4   10.215.223.68   Netlink  10.215.223.68   0days 1Hrs 20mins   \n",
      "\n",
      "               MTTR  \n",
      "0  0days 9h:04m:55s  \n",
      "1  0days 2h:14m:11s  \n",
      "2  0days 2h:47m:26s  \n",
      "3  0days 2h:47m:28s  \n",
      "4  0days 1h:20m:03s  \n"
     ]
    }
   ],
   "source": [
    "step1=input_xl[['IPAddress', 'VENDOR', 'Device Name','Total Down Duration', 'MTTR']]\n",
    "column_names = input_xl.columns.tolist()\n",
    "print(column_names)\n",
    "print(step1.head())\n"
   ]
  },
  {
   "cell_type": "markdown",
   "metadata": {},
   "source": [
    "STEP 2: Finding weather the device is located at a rural or urban place"
   ]
  },
  {
   "cell_type": "code",
   "execution_count": 102,
   "metadata": {},
   "outputs": [
    {
     "name": "stdout",
     "output_type": "stream",
     "text": [
      "        IPAddress    VENDOR    Device Name Total Down Duration  \\\n",
      "0   10.211.223.30       DBC  10.211.223.30  0days 18Hrs 10mins   \n",
      "1    10.211.223.9   NETLINK   10.211.223.9  0days 15Hrs 39mins   \n",
      "2  10.215.223.116  Syrotech       epon-olt   0days 5Hrs 35mins   \n",
      "3  10.215.223.154  Optronix       Luckhnow   0days 5Hrs 35mins   \n",
      "4   10.215.223.68   Netlink  10.215.223.68   0days 1Hrs 20mins   \n",
      "\n",
      "               MTTR         Place   Type  \n",
      "0  0days 9h:04m:55s    PROTHRAPUR  RURAL  \n",
      "1  0days 2h:14m:11s     TUSHNABAD  RURAL  \n",
      "2  0days 2h:47m:26s     KARMATANG  RURAL  \n",
      "3  0days 2h:47m:28s    MGGCOLLEGE  RURAL  \n",
      "4  0days 1h:20m:03s  SWARAJ DWEEP  RURAL  \n"
     ]
    }
   ],
   "source": [
    "step2 = pd.merge(step1, ref, on='IPAddress')\n",
    "#step2['MTTR'] = step2['MTTR'].fillna('0days 0h:00m:00s')\n",
    "step2 = step2.dropna(subset=['MTTR'])\n",
    "\n",
    "\n",
    "print(step2.head())\n",
    "#step2['MTTR'] = step2['MTTR'].str.removeprefix('0days ')\n",
    "#remove rows that have MTTR not starting with '0days'\n",
    "step2b = step2[step2['MTTR'].str.startswith('0days')]"
   ]
  },
  {
   "cell_type": "markdown",
   "metadata": {},
   "source": [
    "STEP 3: Separate rural from urban"
   ]
  },
  {
   "cell_type": "code",
   "execution_count": 103,
   "metadata": {},
   "outputs": [],
   "source": [
    "rural= step2b[step2b['Type'] == 'RURAL']\n",
    "urban = step2b[step2b['Type'] == 'URBAN']\n",
    "r=len(rural)\n",
    "u=len(urban)"
   ]
  },
  {
   "cell_type": "markdown",
   "metadata": {},
   "source": [
    "STEP 4: urban <4h  and rural<6h"
   ]
  },
  {
   "cell_type": "code",
   "execution_count": 104,
   "metadata": {},
   "outputs": [
    {
     "name": "stderr",
     "output_type": "stream",
     "text": [
      "C:\\Users\\HP\\AppData\\Local\\Temp\\ipykernel_25004\\3311858391.py:2: SettingWithCopyWarning: \n",
      "A value is trying to be set on a copy of a slice from a DataFrame.\n",
      "Try using .loc[row_indexer,col_indexer] = value instead\n",
      "\n",
      "See the caveats in the documentation: https://pandas.pydata.org/pandas-docs/stable/user_guide/indexing.html#returning-a-view-versus-a-copy\n",
      "  rural['MTTR'] = rural['MTTR'].str[6:]\n",
      "C:\\Users\\HP\\AppData\\Local\\Temp\\ipykernel_25004\\3311858391.py:3: SettingWithCopyWarning: \n",
      "A value is trying to be set on a copy of a slice from a DataFrame.\n",
      "Try using .loc[row_indexer,col_indexer] = value instead\n",
      "\n",
      "See the caveats in the documentation: https://pandas.pydata.org/pandas-docs/stable/user_guide/indexing.html#returning-a-view-versus-a-copy\n",
      "  urban['MTTR'] = urban['MTTR'].str[6:]\n"
     ]
    }
   ],
   "source": [
    "#remove first 6 elements from a string\n",
    "rural['MTTR'] = rural['MTTR'].str[6:]\n",
    "urban['MTTR'] = urban['MTTR'].str[6:]\n",
    "\n",
    "rural = rural[rural['MTTR'].str.startswith(('6h:00m:00s','5h','4h', '3h', '2h', '1h', '0h'))]\n",
    "urban = urban[urban['MTTR'].str.startswith(('4h:00m:00s', '3h', '2h', '1h', '0h'))]\n",
    "\n",
    "rural['MTTR'] = rural['MTTR'].str.replace('[hms]', '', regex=True)\n",
    "urban['MTTR'] = urban['MTTR'].str.replace('[hms]', '', regex=True)\n",
    "\n",
    "rural['MTTR'] = pd.to_datetime(rural['MTTR'], format='%H:%M:%S').dt.time\n",
    "urban['MTTR'] = pd.to_datetime(urban['MTTR'], format='%H:%M:%S').dt.time\n"
   ]
  },
  {
   "cell_type": "markdown",
   "metadata": {},
   "source": [
    "STEP 5: Add time to find mean MTTR for rural and urban areas"
   ]
  },
  {
   "cell_type": "code",
   "execution_count": 105,
   "metadata": {},
   "outputs": [
    {
     "name": "stdout",
     "output_type": "stream",
     "text": [
      "Average time for rural MTTR:  0 days 01:49:24.485074626\n",
      "Average time for Urban MTTR:  0 days 01:06:42.600000\n"
     ]
    }
   ],
   "source": [
    "rural['MTTR'] = pd.to_timedelta(rural['MTTR'].astype(str))\n",
    "average_timer = rural['MTTR'].mean()\n",
    "\n",
    "urban['MTTR'] = pd.to_timedelta(urban['MTTR'].astype(str))\n",
    "average_timeu = urban['MTTR'].mean()\n",
    "print(\"Average time for rural MTTR: \", average_timer)\n",
    "print(\"Average time for Urban MTTR: \", average_timeu)\n"
   ]
  }
 ],
 "metadata": {
  "kernelspec": {
   "display_name": "Python 3",
   "language": "python",
   "name": "python3"
  },
  "language_info": {
   "codemirror_mode": {
    "name": "ipython",
    "version": 3
   },
   "file_extension": ".py",
   "mimetype": "text/x-python",
   "name": "python",
   "nbconvert_exporter": "python",
   "pygments_lexer": "ipython3",
   "version": "3.11.7"
  }
 },
 "nbformat": 4,
 "nbformat_minor": 2
}
